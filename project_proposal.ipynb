{
 "cells": [
  {
   "cell_type": "markdown",
   "id": "77399f86-78c9-4f04-bc08-5cb050f18bec",
   "metadata": {},
   "source": [
    "# Group Project Proposal"
   ]
  },
  {
   "cell_type": "markdown",
   "id": "b6f6d2ff-06b3-43dd-9723-000ac713eb57",
   "metadata": {},
   "source": [
    "### Introduction:\n",
    "Mushroom is a common food consumed by human. However, not all mushrooms are edible as some of them are poisonous. Colour and the appearance of the mushroom can be indicators of their edibility. However, studies have shown that colour is not an accurate indicator of the toxicity of mushrooms (Yangyang et al., 2020). So, in this project, we are trying to develop a model that consider factors other than color, such as cap shape, cap surface and odor, to determine whether a mushroom is poisonous or not. We will use the mushroom data set from UCI to answer the question."
   ]
  },
  {
   "cell_type": "markdown",
   "id": "3affd022-ab1d-4288-bab5-a721b7c2ae4f",
   "metadata": {},
   "source": [
    "### Preliminary exploratory data analysis:"
   ]
  },
  {
   "cell_type": "code",
   "execution_count": null,
   "id": "f78703a3-345d-4461-8b03-01ab356efbff",
   "metadata": {},
   "outputs": [],
   "source": []
  },
  {
   "cell_type": "markdown",
   "id": "0b3d8a4d-6b0d-4403-8029-81c49303f4af",
   "metadata": {},
   "source": [
    "### Methods:"
   ]
  },
  {
   "cell_type": "markdown",
   "id": "083e808c-fc00-49b6-a19f-1f4276b48077",
   "metadata": {},
   "source": [
    "### Expected outcomes and significance:"
   ]
  },
  {
   "cell_type": "markdown",
   "id": "211c2cf4-edc8-4114-bad8-6687e05e6d5b",
   "metadata": {},
   "source": [
    "### Citations:\n",
    "Yingying Wang, Jixiang Du, Hongbo Zhang, Xiuhong Yang, and Chenxi Huang. (2020). Mushroom Toxicity Recognition Based on Multigrained Cascade Forest. Hindawi, Scientific Programming, Article ID 8849011. https://doi.org/10.1155/2020/8849011"
   ]
  }
 ],
 "metadata": {
  "kernelspec": {
   "display_name": "Python 3 (ipykernel)",
   "language": "python",
   "name": "python3"
  },
  "language_info": {
   "codemirror_mode": {
    "name": "ipython",
    "version": 3
   },
   "file_extension": ".py",
   "mimetype": "text/x-python",
   "name": "python",
   "nbconvert_exporter": "python",
   "pygments_lexer": "ipython3",
   "version": "3.10.8"
  }
 },
 "nbformat": 4,
 "nbformat_minor": 5
}
