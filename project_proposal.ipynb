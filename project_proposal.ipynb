{
 "cells": [
  {
   "cell_type": "markdown",
   "id": "77399f86-78c9-4f04-bc08-5cb050f18bec",
   "metadata": {},
   "source": [
    "# Group Project Proposal"
   ]
  },
  {
   "cell_type": "markdown",
   "id": "b6f6d2ff-06b3-43dd-9723-000ac713eb57",
   "metadata": {},
   "source": [
    "### Introduction:\n",
    "Mushroom is a common food consumed by human. However, not all mushrooms are edible as some of them are poisonous. In this project, we are trying to develop a model that can identify whether a mushroom is poisonous or not, using the cap shape, cap colour, and stalk shape as data. We will use the mushroom data set from UCI to answer the question."
   ]
  },
  {
   "cell_type": "markdown",
   "id": "3affd022-ab1d-4288-bab5-a721b7c2ae4f",
   "metadata": {},
   "source": []
  }
 ],
 "metadata": {
  "kernelspec": {
   "display_name": "Python 3 (ipykernel)",
   "language": "python",
   "name": "python3"
  },
  "language_info": {
   "codemirror_mode": {
    "name": "ipython",
    "version": 3
   },
   "file_extension": ".py",
   "mimetype": "text/x-python",
   "name": "python",
   "nbconvert_exporter": "python",
   "pygments_lexer": "ipython3",
   "version": "3.10.8"
  }
 },
 "nbformat": 4,
 "nbformat_minor": 5
}
